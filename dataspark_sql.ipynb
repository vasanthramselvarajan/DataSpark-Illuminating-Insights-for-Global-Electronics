{
 "cells": [
  {
   "cell_type": "code",
   "execution_count": 1,
   "id": "cd63388c-1221-485c-9032-719492a780a4",
   "metadata": {},
   "outputs": [],
   "source": [
    "import pymysql\n",
    "import pandas as pd"
   ]
  },
  {
   "cell_type": "code",
   "execution_count": 2,
   "id": "73bbdad5-a14a-4e2c-846b-4183a258aa72",
   "metadata": {},
   "outputs": [],
   "source": [
    "myconnection=pymysql.connect(host='',user='',password='')"
   ]
  },
  {
   "cell_type": "code",
   "execution_count": 5,
   "id": "9e2fe9d7-be82-4409-bfa5-52cb9118f9b4",
   "metadata": {},
   "outputs": [],
   "source": [
    "import pandas as pd\n",
    "df=pd.read_csv(\"sale.csv\")"
   ]
  },
  {
   "cell_type": "code",
   "execution_count": 155,
   "id": "7aca0c94-c39f-43ea-bbf6-851e45c90feb",
   "metadata": {},
   "outputs": [],
   "source": [
    "df.fillna(\"NULL\",inplace=True)"
   ]
  },
  {
   "cell_type": "code",
   "execution_count": 67,
   "id": "6ccb81af-5d52-455d-a583-573ce506bc00",
   "metadata": {},
   "outputs": [],
   "source": [
    "df[\"Delivery Date\"]=df[\"Delivery Date\"].str.replace(r'[Null]', '', regex=True)"
   ]
  },
  {
   "cell_type": "code",
   "execution_count": 157,
   "id": "413d278b-421f-41bf-9b6c-7a4f09266320",
   "metadata": {},
   "outputs": [
    {
     "data": {
      "text/html": [
       "<div>\n",
       "<style scoped>\n",
       "    .dataframe tbody tr th:only-of-type {\n",
       "        vertical-align: middle;\n",
       "    }\n",
       "\n",
       "    .dataframe tbody tr th {\n",
       "        vertical-align: top;\n",
       "    }\n",
       "\n",
       "    .dataframe thead th {\n",
       "        text-align: right;\n",
       "    }\n",
       "</style>\n",
       "<table border=\"1\" class=\"dataframe\">\n",
       "  <thead>\n",
       "    <tr style=\"text-align: right;\">\n",
       "      <th></th>\n",
       "      <th>Order Number</th>\n",
       "      <th>Line Item</th>\n",
       "      <th>Order Date</th>\n",
       "      <th>Delivery Date</th>\n",
       "      <th>CustomerKey</th>\n",
       "      <th>StoreKey</th>\n",
       "      <th>ProductKey</th>\n",
       "      <th>Quantity</th>\n",
       "      <th>Currency Code</th>\n",
       "    </tr>\n",
       "  </thead>\n",
       "  <tbody>\n",
       "    <tr>\n",
       "      <th>0</th>\n",
       "      <td>366000</td>\n",
       "      <td>1</td>\n",
       "      <td>2016-01-01</td>\n",
       "      <td>NULL</td>\n",
       "      <td>265598</td>\n",
       "      <td>10</td>\n",
       "      <td>1304</td>\n",
       "      <td>1</td>\n",
       "      <td>CAD</td>\n",
       "    </tr>\n",
       "    <tr>\n",
       "      <th>1</th>\n",
       "      <td>366001</td>\n",
       "      <td>1</td>\n",
       "      <td>2016-01-01</td>\n",
       "      <td>2016-01-13</td>\n",
       "      <td>1269051</td>\n",
       "      <td>0</td>\n",
       "      <td>1048</td>\n",
       "      <td>2</td>\n",
       "      <td>USD</td>\n",
       "    </tr>\n",
       "    <tr>\n",
       "      <th>2</th>\n",
       "      <td>366001</td>\n",
       "      <td>2</td>\n",
       "      <td>2016-01-01</td>\n",
       "      <td>2016-01-13</td>\n",
       "      <td>1269051</td>\n",
       "      <td>0</td>\n",
       "      <td>2007</td>\n",
       "      <td>1</td>\n",
       "      <td>USD</td>\n",
       "    </tr>\n",
       "    <tr>\n",
       "      <th>3</th>\n",
       "      <td>366002</td>\n",
       "      <td>1</td>\n",
       "      <td>2016-01-01</td>\n",
       "      <td>2016-01-12</td>\n",
       "      <td>266019</td>\n",
       "      <td>0</td>\n",
       "      <td>1106</td>\n",
       "      <td>7</td>\n",
       "      <td>CAD</td>\n",
       "    </tr>\n",
       "    <tr>\n",
       "      <th>4</th>\n",
       "      <td>366002</td>\n",
       "      <td>2</td>\n",
       "      <td>2016-01-01</td>\n",
       "      <td>2016-01-12</td>\n",
       "      <td>266019</td>\n",
       "      <td>0</td>\n",
       "      <td>373</td>\n",
       "      <td>1</td>\n",
       "      <td>CAD</td>\n",
       "    </tr>\n",
       "    <tr>\n",
       "      <th>...</th>\n",
       "      <td>...</td>\n",
       "      <td>...</td>\n",
       "      <td>...</td>\n",
       "      <td>...</td>\n",
       "      <td>...</td>\n",
       "      <td>...</td>\n",
       "      <td>...</td>\n",
       "      <td>...</td>\n",
       "      <td>...</td>\n",
       "    </tr>\n",
       "    <tr>\n",
       "      <th>62879</th>\n",
       "      <td>2243030</td>\n",
       "      <td>1</td>\n",
       "      <td>2021-02-20</td>\n",
       "      <td>NULL</td>\n",
       "      <td>1216913</td>\n",
       "      <td>43</td>\n",
       "      <td>632</td>\n",
       "      <td>3</td>\n",
       "      <td>USD</td>\n",
       "    </tr>\n",
       "    <tr>\n",
       "      <th>62880</th>\n",
       "      <td>2243031</td>\n",
       "      <td>1</td>\n",
       "      <td>2021-02-20</td>\n",
       "      <td>2021-02-24</td>\n",
       "      <td>511229</td>\n",
       "      <td>0</td>\n",
       "      <td>98</td>\n",
       "      <td>4</td>\n",
       "      <td>EUR</td>\n",
       "    </tr>\n",
       "    <tr>\n",
       "      <th>62881</th>\n",
       "      <td>2243032</td>\n",
       "      <td>1</td>\n",
       "      <td>2021-02-20</td>\n",
       "      <td>2021-02-23</td>\n",
       "      <td>331277</td>\n",
       "      <td>0</td>\n",
       "      <td>1613</td>\n",
       "      <td>2</td>\n",
       "      <td>CAD</td>\n",
       "    </tr>\n",
       "    <tr>\n",
       "      <th>62882</th>\n",
       "      <td>2243032</td>\n",
       "      <td>2</td>\n",
       "      <td>2021-02-20</td>\n",
       "      <td>2021-02-23</td>\n",
       "      <td>331277</td>\n",
       "      <td>0</td>\n",
       "      <td>1717</td>\n",
       "      <td>2</td>\n",
       "      <td>CAD</td>\n",
       "    </tr>\n",
       "    <tr>\n",
       "      <th>62883</th>\n",
       "      <td>2243032</td>\n",
       "      <td>3</td>\n",
       "      <td>2021-02-20</td>\n",
       "      <td>2021-02-23</td>\n",
       "      <td>331277</td>\n",
       "      <td>0</td>\n",
       "      <td>464</td>\n",
       "      <td>7</td>\n",
       "      <td>CAD</td>\n",
       "    </tr>\n",
       "  </tbody>\n",
       "</table>\n",
       "<p>62884 rows × 9 columns</p>\n",
       "</div>"
      ],
      "text/plain": [
       "       Order Number  Line Item  Order Date Delivery Date  CustomerKey  \\\n",
       "0            366000          1  2016-01-01          NULL       265598   \n",
       "1            366001          1  2016-01-01    2016-01-13      1269051   \n",
       "2            366001          2  2016-01-01    2016-01-13      1269051   \n",
       "3            366002          1  2016-01-01    2016-01-12       266019   \n",
       "4            366002          2  2016-01-01    2016-01-12       266019   \n",
       "...             ...        ...         ...           ...          ...   \n",
       "62879       2243030          1  2021-02-20          NULL      1216913   \n",
       "62880       2243031          1  2021-02-20    2021-02-24       511229   \n",
       "62881       2243032          1  2021-02-20    2021-02-23       331277   \n",
       "62882       2243032          2  2021-02-20    2021-02-23       331277   \n",
       "62883       2243032          3  2021-02-20    2021-02-23       331277   \n",
       "\n",
       "       StoreKey  ProductKey  Quantity Currency Code  \n",
       "0            10        1304         1           CAD  \n",
       "1             0        1048         2           USD  \n",
       "2             0        2007         1           USD  \n",
       "3             0        1106         7           CAD  \n",
       "4             0         373         1           CAD  \n",
       "...         ...         ...       ...           ...  \n",
       "62879        43         632         3           USD  \n",
       "62880         0          98         4           EUR  \n",
       "62881         0        1613         2           CAD  \n",
       "62882         0        1717         2           CAD  \n",
       "62883         0         464         7           CAD  \n",
       "\n",
       "[62884 rows x 9 columns]"
      ]
     },
     "execution_count": 157,
     "metadata": {},
     "output_type": "execute_result"
    }
   ],
   "source": [
    "df"
   ]
  },
  {
   "cell_type": "code",
   "execution_count": 13,
   "id": "0ee5fc08-8acc-490d-8a64-cf038ab3fc69",
   "metadata": {},
   "outputs": [],
   "source": [
    "df['Order Date'] = pd.to_datetime(df['Order Date'])\n",
    "df['Delivery Date'] = pd.to_datetime(df['Delivery Date'])"
   ]
  },
  {
   "cell_type": "code",
   "execution_count": 15,
   "id": "94d2e613-3483-4f64-8040-caf8d3dc9a68",
   "metadata": {},
   "outputs": [
    {
     "name": "stdout",
     "output_type": "stream",
     "text": [
      "<class 'pandas.core.frame.DataFrame'>\n",
      "RangeIndex: 62884 entries, 0 to 62883\n",
      "Data columns (total 9 columns):\n",
      " #   Column         Non-Null Count  Dtype         \n",
      "---  ------         --------------  -----         \n",
      " 0   Order Number   62884 non-null  int64         \n",
      " 1   Line Item      62884 non-null  int64         \n",
      " 2   Order Date     62884 non-null  datetime64[ns]\n",
      " 3   Delivery Date  13165 non-null  datetime64[ns]\n",
      " 4   CustomerKey    62884 non-null  int64         \n",
      " 5   StoreKey       62884 non-null  int64         \n",
      " 6   ProductKey     62884 non-null  int64         \n",
      " 7   Quantity       62884 non-null  int64         \n",
      " 8   Currency Code  62884 non-null  object        \n",
      "dtypes: datetime64[ns](2), int64(6), object(1)\n",
      "memory usage: 4.3+ MB\n"
     ]
    }
   ],
   "source": [
    "df.info()"
   ]
  },
  {
   "cell_type": "code",
   "execution_count": 17,
   "id": "f49c4600-55bd-456a-8e93-b29035a8f455",
   "metadata": {},
   "outputs": [],
   "source": [
    "a=\",\".join(f\"{i} {j}\"\n",
    "for i,j in zip(df.columns,df.dtypes)).replace(\"object\",\"text\").replace(\"float64\",\"float\").replace(\"int64\",\"int\").replace(\"datetime64[ns]\",\"date\")"
   ]
  },
  {
   "cell_type": "code",
   "execution_count": 19,
   "id": "9390a4ec-0c6f-4327-8304-da40fa8b81ec",
   "metadata": {},
   "outputs": [
    {
     "data": {
      "text/plain": [
       "'Order Number int,Line Item int,Order Date date,Delivery Date date,CustomerKey int,StoreKey int,ProductKey int,Quantity int,Currency Code text'"
      ]
     },
     "execution_count": 19,
     "metadata": {},
     "output_type": "execute_result"
    }
   ],
   "source": [
    "a"
   ]
  },
  {
   "cell_type": "code",
   "execution_count": 163,
   "id": "7e9ad7dd-0b5c-447a-aadf-670159d843d1",
   "metadata": {},
   "outputs": [
    {
     "name": "stdout",
     "output_type": "stream",
     "text": [
      "insert into dataspark.sales (Order_number,Line_item,Order_date,Delivery_date,Customer_key,Store_key,Product_key,Quantity,Currency_code) values (366000, 1, '2016-01-01', 'NULL', 265598, 10, 1304, 1, 'CAD')\n",
      "insert into dataspark.sales (Order_number,Line_item,Order_date,Delivery_date,Customer_key,Store_key,Product_key,Quantity,Currency_code) values (366001, 1, '2016-01-01', '2016-01-13', 1269051, 0, 1048, 2, 'USD')\n",
      "insert into dataspark.sales (Order_number,Line_item,Order_date,Delivery_date,Customer_key,Store_key,Product_key,Quantity,Currency_code) values (366001, 2, '2016-01-01', '2016-01-13', 1269051, 0, 2007, 1, 'USD')\n",
      "insert into dataspark.sales (Order_number,Line_item,Order_date,Delivery_date,Customer_key,Store_key,Product_key,Quantity,Currency_code) values (366002, 1, '2016-01-01', '2016-01-12', 266019, 0, 1106, 7, 'CAD')\n",
      "insert into dataspark.sales (Order_number,Line_item,Order_date,Delivery_date,Customer_key,Store_key,Product_key,Quantity,Currency_code) values (366002, 2, '2016-01-01', '2016-01-12', 266019, 0, 373, 1, 'CAD')\n",
      "insert into dataspark.sales (Order_number,Line_item,Order_date,Delivery_date,Customer_key,Store_key,Product_key,Quantity,Currency_code) values (366002, 3, '2016-01-01', '2016-01-12', 266019, 0, 1080, 4, 'CAD')\n",
      "insert into dataspark.sales (Order_number,Line_item,Order_date,Delivery_date,Customer_key,Store_key,Product_key,Quantity,Currency_code) values (366004, 1, '2016-01-01', 'NULL', 1107461, 38, 163, 6, 'GBP')\n",
      "insert into dataspark.sales (Order_number,Line_item,Order_date,Delivery_date,Customer_key,Store_key,Product_key,Quantity,Currency_code) values (366004, 2, '2016-01-01', 'NULL', 1107461, 38, 1529, 2, 'GBP')\n",
      "insert into dataspark.sales (Order_number,Line_item,Order_date,Delivery_date,Customer_key,Store_key,Product_key,Quantity,Currency_code) values (366005, 1, '2016-01-01', 'NULL', 844003, 33, 421, 4, 'EUR')\n",
      "insert into dataspark.sales (Order_number,Line_item,Order_date,Delivery_date,Customer_key,Store_key,Product_key,Quantity,Currency_code) values (366007, 1, '2016-01-01', 'NULL', 2035771, 43, 1617, 1, 'USD')\n"
     ]
    }
   ],
   "source": [
    "sql=\"insert into dataspark.sales (Order_number,Line_item,Order_date,Delivery_date,Customer_key,Store_key,Product_key,Quantity,Currency_code) values\"\n",
    "for i in range(10):\n",
    "    print(f\"{sql} {tuple(df.iloc[i])}\")"
   ]
  },
  {
   "cell_type": "code",
   "execution_count": null,
   "id": "a4de710d-a63a-4614-a187-94cf921bd927",
   "metadata": {},
   "outputs": [],
   "source": [
    "myconnection.cursor().execute(f\"create table dataspark.sales (Order_number int,Line_item int,Order_date date,Delivery_date date,Customer_key int,FOREIGN KEY (Customer_key) REFERENCES customers(Customer_key),Store_key int,FOREIGN KEY (Store_key) REFERENCES stores(Store_key),Product_key int,FOREIGN KEY (Product_key) REFERENCES products(Product_key),Quantity int,Currency_code text)\")\n",
    "myconnection.commit()"
   ]
  },
  {
   "cell_type": "code",
   "execution_count": 165,
   "id": "57b8260b-7490-49a4-b055-5efdfe141e1c",
   "metadata": {},
   "outputs": [],
   "source": [
    "sql=\"insert into dataspark.sales (Order_number,Line_item,Order_date,Delivery_date,Customer_key,Store_key,Product_key,Quantity,Currency_code) values\"\n",
    "for i in range(len(df)):\n",
    "    myconnection.cursor().execute(f\"{sql} {tuple(df.iloc[i])}\")\n",
    "    myconnection.commit()\n",
    "    "
   ]
  },
  {
   "cell_type": "code",
   "execution_count": null,
   "id": "cf2b543d-b3bf-4fd0-85d7-c05602f80b84",
   "metadata": {},
   "outputs": [],
   "source": []
  }
 ],
 "metadata": {
  "kernelspec": {
   "display_name": "Python 3 (ipykernel)",
   "language": "python",
   "name": "python3"
  },
  "language_info": {
   "codemirror_mode": {
    "name": "ipython",
    "version": 3
   },
   "file_extension": ".py",
   "mimetype": "text/x-python",
   "name": "python",
   "nbconvert_exporter": "python",
   "pygments_lexer": "ipython3",
   "version": "3.12.4"
  }
 },
 "nbformat": 4,
 "nbformat_minor": 5
}
